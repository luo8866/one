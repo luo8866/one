{
 "cells": [
  {
   "cell_type": "code",
   "execution_count": 47,
   "metadata": {
    "tags": []
   },
   "outputs": [
    {
     "output_type": "stream",
     "name": "stdout",
     "text": "[1, 2, 3, 4, 5, 6, 7, 8]\n5\n0\n"
    },
    {
     "output_type": "error",
     "ename": "ValueError",
     "evalue": "list.remove(x): x not in list",
     "traceback": [
      "\u001b[1;31m---------------------------------------------------------------------------\u001b[0m",
      "\u001b[1;31mValueError\u001b[0m                                Traceback (most recent call last)",
      "\u001b[1;32m<ipython-input-47-56f468ad5134>\u001b[0m in \u001b[0;36m<module>\u001b[1;34m\u001b[0m\n\u001b[0;32m     17\u001b[0m     \u001b[1;32mreturn\u001b[0m \u001b[0mpeople_leave\u001b[0m\u001b[1;33m\u001b[0m\u001b[1;33m\u001b[0m\u001b[0m\n\u001b[0;32m     18\u001b[0m \u001b[1;33m\u001b[0m\u001b[0m\n\u001b[1;32m---> 19\u001b[1;33m \u001b[0mpeople_alive\u001b[0m \u001b[1;33m=\u001b[0m \u001b[0mJosephring\u001b[0m\u001b[1;33m(\u001b[0m\u001b[0mpeople\u001b[0m\u001b[1;33m,\u001b[0m\u001b[0mstart_num\u001b[0m\u001b[1;33m,\u001b[0m\u001b[0minterval\u001b[0m\u001b[1;33m)\u001b[0m\u001b[1;33m\u001b[0m\u001b[1;33m\u001b[0m\u001b[0m\n\u001b[0m\u001b[0;32m     20\u001b[0m \u001b[0mprint\u001b[0m\u001b[1;33m(\u001b[0m\u001b[0mstart_num\u001b[0m\u001b[1;33m)\u001b[0m\u001b[1;33m\u001b[0m\u001b[1;33m\u001b[0m\u001b[0m\n\u001b[0;32m     21\u001b[0m \u001b[0mprint\u001b[0m\u001b[1;33m(\u001b[0m\u001b[0mpeople_alive\u001b[0m\u001b[1;33m)\u001b[0m\u001b[1;33m\u001b[0m\u001b[1;33m\u001b[0m\u001b[0m\n",
      "\u001b[1;32m<ipython-input-47-56f468ad5134>\u001b[0m in \u001b[0;36mJosephring\u001b[1;34m(people, start_num, interval)\u001b[0m\n\u001b[0;32m     14\u001b[0m         \u001b[0mprint\u001b[0m\u001b[1;33m(\u001b[0m\u001b[0mstart_num\u001b[0m\u001b[1;33m)\u001b[0m\u001b[1;33m\u001b[0m\u001b[1;33m\u001b[0m\u001b[0m\n\u001b[0;32m     15\u001b[0m         \u001b[0mpeople_leave\u001b[0m\u001b[1;33m.\u001b[0m\u001b[0mappend\u001b[0m\u001b[1;33m(\u001b[0m\u001b[0mstart_num\u001b[0m \u001b[1;33m-\u001b[0m \u001b[1;36m1\u001b[0m\u001b[1;33m)\u001b[0m\u001b[1;33m\u001b[0m\u001b[1;33m\u001b[0m\u001b[0m\n\u001b[1;32m---> 16\u001b[1;33m         \u001b[0mpeople\u001b[0m\u001b[1;33m.\u001b[0m\u001b[0mremove\u001b[0m\u001b[1;33m(\u001b[0m\u001b[0mstart_num\u001b[0m \u001b[1;33m-\u001b[0m \u001b[1;36m1\u001b[0m\u001b[1;33m)\u001b[0m\u001b[1;33m\u001b[0m\u001b[1;33m\u001b[0m\u001b[0m\n\u001b[0m\u001b[0;32m     17\u001b[0m     \u001b[1;32mreturn\u001b[0m \u001b[0mpeople_leave\u001b[0m\u001b[1;33m\u001b[0m\u001b[1;33m\u001b[0m\u001b[0m\n\u001b[0;32m     18\u001b[0m \u001b[1;33m\u001b[0m\u001b[0m\n",
      "\u001b[1;31mValueError\u001b[0m: list.remove(x): x not in list"
     ]
    }
   ],
   "source": [
    "#Josephring improved\n",
    "total_num = 8\n",
    "start_num = 2\n",
    "interval = 3\n",
    "people = [x for x in range(1,total_num+1)]\n",
    "people_alive = []\n",
    "print(people)\n",
    "\n",
    "def Josephring(people,start_num,interval):\n",
    "    people_leave = []\n",
    "    while len(people)>0:\n",
    "        start_num1 = start_num + interval #下一次的开始值start_num + interval  start_num + interval - 1删掉的\n",
    "        start_num = start_num1 % total_num\n",
    "        print(start_num)\n",
    "        people_leave.append(start_num - 1)\n",
    "        people.remove(start_num - 1)\n",
    "    return people_leave\n",
    "\n",
    "people_alive = Josephring(people,start_num,interval)\n",
    "print(start_num)\n",
    "print(people_alive)\n",
    "\n",
    "\n",
    "\n",
    "\n",
    "\n"
   ]
  },
  {
   "cell_type": "code",
   "execution_count": 86,
   "metadata": {
    "tags": []
   },
   "outputs": [
    {
     "output_type": "stream",
     "name": "stdout",
     "text": "[1, 2, 3, 4, 5, 6, 7, 8]\n[1, 2, 3, 5, 6, 7, 8]\n[1, 2, 3, 5, 6, 8]\n[1, 3, 5, 6, 8]\n[1, 3, 6, 8]\n[4, 7, 2, 5]\n"
    }
   ],
   "source": [
    "#Josephring improved\n",
    "total_num = 8\n",
    "start_num = 2\n",
    "interval = 3\n",
    "people = [x for x in range(1,total_num+1)]\n",
    "print(people)\n",
    "\n",
    "people_leave = []\n",
    "#while len(people)>0:\n",
    "for delete in people:\n",
    "    start_num1 = start_num + interval #下一次的开始值start_num + interval  删掉的start_num + interval - 1删掉的\n",
    "    start_num = start_num1 % total_num\n",
    "    if start_num1 > total_num:\n",
    "        delete = start_num - 1\n",
    "    else:\n",
    "        delete = start_num1 - 1\n",
    "    people_leave.append(delete)\n",
    "    people.remove(delete)#此处有问题并未删除4\n",
    "    print(people)\n",
    "print(people_leave)\n"
   ]
  },
  {
   "cell_type": "code",
   "execution_count": null,
   "metadata": {},
   "outputs": [],
   "source": []
  }
 ],
 "metadata": {
  "language_info": {
   "codemirror_mode": {
    "name": "ipython",
    "version": 3
   },
   "file_extension": ".py",
   "mimetype": "text/x-python",
   "name": "python",
   "nbconvert_exporter": "python",
   "pygments_lexer": "ipython3",
   "version": "3.7.6-final"
  },
  "orig_nbformat": 2,
  "kernelspec": {
   "name": "python3",
   "display_name": "Python 3"
  }
 },
 "nbformat": 4,
 "nbformat_minor": 2
}