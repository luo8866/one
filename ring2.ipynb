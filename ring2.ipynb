{
 "cells": [
  {
   "cell_type": "code",
   "execution_count": 30,
   "metadata": {
    "tags": []
   },
   "outputs": [
    {
     "output_type": "stream",
     "name": "stdout",
     "text": "[0, 1, 2, 3, 5, 6, 7]\n[0, 1, 2, 3, 5, 6]\n[0, 1, 3, 5, 6]\n[0, 1, 3, 5]\n[0, 1, 5]\n[0, 5]\n[0]\n[0, 1, 2, 3, 5, 6, 7, 8, 9, 10, 11, 12, 13]\n[0, 1, 2, 3, 5, 7, 8, 9, 10, 11, 12, 13]\n[0, 1, 2, 3, 5, 7, 9, 10, 11, 12, 13]\n[0, 1, 2, 3, 5, 7, 9, 11, 12, 13]\n[0, 1, 2, 3, 5, 7, 9, 11, 13]\n[1, 2, 3, 5, 7, 9, 11, 13]\n[1, 3, 5, 7, 9, 11, 13]\n[1, 3, 7, 9, 11, 13]\n[1, 3, 7, 11, 13]\n[1, 3, 7, 11]\n[1, 7, 11]\n[1, 7]\n[1]\n[0, 1, 2, 3, 4, 5, 6, 7, 8, 9, 11, 12, 13, 14, 15, 16, 17, 18, 19, 20]\n[0, 1, 2, 3, 4, 5, 6, 7, 8, 9, 11, 12, 13, 14, 15, 17, 18, 19, 20]\n[0, 2, 3, 4, 5, 6, 7, 8, 9, 11, 12, 13, 14, 15, 17, 18, 19, 20]\n[0, 2, 3, 4, 5, 6, 8, 9, 11, 12, 13, 14, 15, 17, 18, 19, 20]\n[0, 2, 3, 4, 5, 6, 8, 9, 11, 12, 13, 15, 17, 18, 19, 20]\n[2, 3, 4, 5, 6, 8, 9, 11, 12, 13, 15, 17, 18, 19, 20]\n[2, 3, 4, 5, 6, 9, 11, 12, 13, 15, 17, 18, 19, 20]\n[2, 3, 4, 5, 6, 9, 11, 12, 13, 15, 18, 19, 20]\n[2, 3, 5, 6, 9, 11, 12, 13, 15, 18, 19, 20]\n[2, 3, 5, 6, 9, 11, 12, 15, 18, 19, 20]\n[2, 5, 6, 9, 11, 12, 15, 18, 19, 20]\n[2, 5, 6, 9, 11, 12, 18, 19, 20]\n[2, 5, 9, 11, 12, 18, 19, 20]\n[2, 5, 9, 11, 12, 18, 19]\n[2, 5, 9, 11, 12, 19]\n[2, 5, 9, 11, 19]\n[2, 5, 9, 11]\n[2, 9, 11]\n[9, 11]\n[9]\n"
    }
   ],
   "source": [
    "\n",
    "def getinput(total_num):\n",
    "    people = [x for x in range(0,total_num)]\n",
    "    return people \n",
    "\n",
    "def ring(people,start,interval):\n",
    "    while len(people)>1:\n",
    "        start = (start + interval - 1)%len(people)\n",
    "        people.pop(start)\n",
    "        print(people)\n",
    "    return people\n",
    "\n",
    "\n",
    "test_list =  getinput(8)\n",
    "ret = ring(test_list,2,3)\n",
    "assert(test_list == [0])\n",
    "\n",
    "test_list =  getinput(14)\n",
    "ret = ring(test_list,3,2)\n",
    "assert(test_list == [1])\n",
    "\n",
    "test_list =  getinput(21)\n",
    "ret = ring(test_list,5,6)\n",
    "assert(test_list == [9])"
   ]
  },
  {
   "cell_type": "code",
   "execution_count": null,
   "metadata": {},
   "outputs": [],
   "source": []
  }
 ],
 "metadata": {
  "language_info": {
   "codemirror_mode": {
    "name": "ipython",
    "version": 3
   },
   "file_extension": ".py",
   "mimetype": "text/x-python",
   "name": "python",
   "nbconvert_exporter": "python",
   "pygments_lexer": "ipython3",
   "version": "3.7.6-final"
  },
  "orig_nbformat": 2,
  "kernelspec": {
   "name": "python3",
   "display_name": "Python 3"
  }
 },
 "nbformat": 4,
 "nbformat_minor": 2
}