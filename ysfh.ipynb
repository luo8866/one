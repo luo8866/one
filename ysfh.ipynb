{
 "cells": [
  {
   "cell_type": "code",
   "execution_count": 12,
   "metadata": {
    "tags": []
   },
   "outputs": [
    {
     "output_type": "stream",
     "name": "stdout",
     "text": "[2]\n"
    }
   ],
   "source": [
    "people_total_num = 21\n",
    "people_left = 3\n",
    "people_remain = 1\n",
    "\n",
    "people = [x for x in range(1,people_total_num+1)]\n",
    "\n",
    "num = 0\n",
    "while len(people)>people_remain:\n",
    "    i=0             #每i轮报数\n",
    "    while i<len(people):\n",
    "        num+=1\n",
    "        if num == people_left:\n",
    "            people.pop(i)\n",
    "            num = 0\n",
    "        else:\n",
    "            i+=1\n",
    "print(people)\n"
   ]
  },
  {
   "cell_type": "code",
   "execution_count": 17,
   "metadata": {
    "tags": []
   },
   "outputs": [
    {
     "output_type": "stream",
     "name": "stdout",
     "text": "[2]\n"
    }
   ],
   "source": [
    "\n",
    "def ysfh(people_total_num,people_left,people_remain):\n",
    "\n",
    "    people = [x for x in range(1,people_total_num+1)]\n",
    "\n",
    "    num = 0\n",
    "    while len(people)>people_remain:\n",
    "        i=0             #每i轮报数\n",
    "        while i<len(people):\n",
    "            num+=1\n",
    "            if num == people_left:\n",
    "                people.pop(i)\n",
    "                num = 0\n",
    "            else:\n",
    "                i+=1\n",
    "    return people\n",
    "\n",
    "y = ysfh(21,3,1)\n",
    "print(y)"
   ]
  },
  {
   "cell_type": "code",
   "execution_count": null,
   "metadata": {},
   "outputs": [],
   "source": []
  }
 ],
 "metadata": {
  "language_info": {
   "codemirror_mode": {
    "name": "ipython",
    "version": 3
   },
   "file_extension": ".py",
   "mimetype": "text/x-python",
   "name": "python",
   "nbconvert_exporter": "python",
   "pygments_lexer": "ipython3",
   "version": "3.7.6-final"
  },
  "orig_nbformat": 2,
  "kernelspec": {
   "name": "python3",
   "display_name": "Python 3"
  }
 },
 "nbformat": 4,
 "nbformat_minor": 2
}