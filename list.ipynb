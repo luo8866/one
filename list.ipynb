{
 "cells": [
  {
   "cell_type": "code",
   "execution_count": 1,
   "metadata": {
    "tags": []
   },
   "outputs": [
    {
     "output_type": "stream",
     "name": "stdout",
     "text": "[1, 2, 3, 'abd', 'python']\n['abd', 'python']\n"
    }
   ],
   "source": [
    "a = [1,2,3]\n",
    "b = ['abd','python']\n",
    "a.extend(b)\n",
    "print(a)\n",
    "print(b)"
   ]
  },
  {
   "cell_type": "code",
   "execution_count": 3,
   "metadata": {
    "tags": []
   },
   "outputs": [
    {
     "output_type": "stream",
     "name": "stdout",
     "text": "['abc', 'edf', 'to']\n['python', 'abc', 'edf', 'to']\n"
    }
   ],
   "source": [
    "all_user = [\"abc\",\"edf\"]\n",
    "all_user.append(\"to\")\n",
    "print(all_user)\n",
    "all_user.insert(0,\"python\")\n",
    "print(all_user)"
   ]
  },
  {
   "cell_type": "code",
   "execution_count": 4,
   "metadata": {
    "tags": []
   },
   "outputs": [
    {
     "output_type": "stream",
     "name": "stdout",
     "text": "['python', 'abc', 'edf']\n"
    }
   ],
   "source": [
    "all_user.remove(\"to\")\n",
    "print(all_user)"
   ]
  },
  {
   "cell_type": "code",
   "execution_count": 8,
   "metadata": {
    "tags": []
   },
   "outputs": [
    {
     "output_type": "stream",
     "name": "stdout",
     "text": "['abc', 'edf']\n"
    }
   ],
   "source": [
    "if \"python\" in all_user:\n",
    "    all_user.remove(\"python\")\n",
    "    print(all_user)\n",
    "else:\n",
    "    print(\"dont have this word\")"
   ]
  },
  {
   "cell_type": "code",
   "execution_count": 12,
   "metadata": {
    "tags": []
   },
   "outputs": [
    {
     "output_type": "stream",
     "name": "stdout",
     "text": "[1, 2, 3, 4, 5, 6]\n"
    }
   ],
   "source": [
    "a = [3,1,5,4,2,6]\n",
    "a.sort()\n",
    "print(a)"
   ]
  },
  {
   "cell_type": "code",
   "execution_count": 15,
   "metadata": {
    "tags": []
   },
   "outputs": [
    {
     "output_type": "stream",
     "name": "stdout",
     "text": "2\n5\n"
    }
   ],
   "source": [
    "a = [[1,2,3],[4,5,6],[7,8,9]]\n",
    "print(a[0][1])\n",
    "print(a[1][1])"
   ]
  },
  {
   "cell_type": "code",
   "execution_count": 24,
   "metadata": {
    "tags": []
   },
   "outputs": [
    {
     "output_type": "stream",
     "name": "stdout",
     "text": "i am, writing\npython\tbook on line\n['i', 'am,', 'writing', 'python', 'book', 'on', 'line']\ni am, writing python book on line\ni am writing python book on line\n"
    }
   ],
   "source": [
    "a = \"i am, writing\\npython\\tbook on line\"\n",
    "print(a)\n",
    "a.split()\n",
    "print(a.split())\n",
    "b = \" \".join(a.split())\n",
    "print(b)\n",
    "c = b[ :4] + b[5: ]\n",
    "print(c)"
   ]
  },
  {
   "cell_type": "code",
   "execution_count": null,
   "metadata": {},
   "outputs": [],
   "source": []
  }
 ],
 "metadata": {
  "language_info": {
   "codemirror_mode": {
    "name": "ipython",
    "version": 3
   },
   "file_extension": ".py",
   "mimetype": "text/x-python",
   "name": "python",
   "nbconvert_exporter": "python",
   "pygments_lexer": "ipython3",
   "version": "3.7.6-final"
  },
  "orig_nbformat": 2,
  "kernelspec": {
   "name": "python3",
   "display_name": "Python 3"
  }
 },
 "nbformat": 4,
 "nbformat_minor": 2
}