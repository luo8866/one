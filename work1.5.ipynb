{
 "cells": [
  {
   "cell_type": "code",
   "execution_count": 23,
   "metadata": {
    "tags": []
   },
   "outputs": [
    {
     "output_type": "stream",
     "name": "stdout",
     "text": "[1, 2, 3, 4, 5, 6, 7, 8, 9, 0]\n[2, 3, 4, 5, 6, 7, 8, 9, 0, 1]\n"
    }
   ],
   "source": [
    "#1\n",
    "list1 = [1,2,3,4,5,6,7,8,9,0]\n",
    "print(list1)\n",
    "list1.append(list1.pop(0))\n",
    "print(list1)"
   ]
  },
  {
   "cell_type": "code",
   "execution_count": 51,
   "metadata": {
    "tags": []
   },
   "outputs": [
    {
     "output_type": "stream",
     "name": "stdout",
     "text": "i love  code\n['i', 'love', '', 'code']\n['i', 'love', 'code']\ni love code\n"
    }
   ],
   "source": [
    "#3\n",
    "str_delete_blank = \"i love  code\"\n",
    "print(str_delete_blank)\n",
    "str_split = str_delete_blank.split(\" \")\n",
    "print(str_split)\n",
    "words = [x for x in str_split if x != \"\"]\n",
    "print(words)\n",
    "new_str = \" \".join(words)\n",
    "print(new_str)"
   ]
  },
  {
   "cell_type": "code",
   "execution_count": 55,
   "metadata": {
    "tags": []
   },
   "outputs": [
    {
     "output_type": "stream",
     "name": "stdout",
     "text": "8\n"
    }
   ],
   "source": [
    "#4\n",
    "a,b = 1,2\n",
    "for i in range(4):\n",
    "    a,b =b,a+b\n",
    "print(a)"
   ]
  },
  {
   "cell_type": "code",
   "execution_count": 56,
   "metadata": {
    "tags": []
   },
   "outputs": [
    {
     "output_type": "stream",
     "name": "stdout",
     "text": "-1.0 -1.0\n"
    }
   ],
   "source": [
    "#5\n",
    "from math import sqrt\n",
    "a = float(input(\"a:\"))\n",
    "b = float(input(\"b:\"))\n",
    "c = float(input(\"c:\"))\n",
    "\n",
    "def get_sovle(a,b,c):\n",
    "    delta = b*b -4*a*c\n",
    "    if delta<0:\n",
    "        raise ValueError(\"under zero\")\n",
    "    else:\n",
    "        x1 = float((-b + sqrt(delta))/(2*a))\n",
    "        x2 = float((-b - sqrt(delta))/(2*a))\n",
    "    return (x1,x2)\n",
    "\n",
    "try:\n",
    " (x,y) = get_sovle(a,b,c)\n",
    "   \n",
    "except ValueError as ex:\n",
    "    print(ex)\n",
    "\n",
    "\n",
    "print(x,y)"
   ]
  },
  {
   "cell_type": "code",
   "execution_count": 1,
   "metadata": {
    "tags": []
   },
   "outputs": [
    {
     "output_type": "stream",
     "name": "stdout",
     "text": "{1: 49, 2: 39, 3: 59, 4: 51, 5: 96, 6: 74, 7: 42, 8: 89, 9: 11, 10: 2, 11: 46, 12: 25, 13: 48, 14: 37, 15: 84, 16: 20, 17: 81, 18: 86, 19: 75, 20: 64, 21: 78, 22: 83, 23: 86, 24: 58, 25: 94, 26: 31, 27: 26, 28: 2, 29: 73, 30: 45, 31: 98, 32: 41, 33: 94, 34: 26, 35: 61, 36: 85, 37: 62, 38: 93, 39: 40, 40: 26}\n(57.0, (10, 2), (31, 98))\n"
    }
   ],
   "source": [
    "#6\n",
    "from __future__ import division\n",
    "import random\n",
    "import operator\n",
    "\n",
    "student_name = [i for i in range(1,41)]\n",
    "student_score = [random.randint(0,100) for x in range(40)]\n",
    "class_score = dict(zip(student_name,student_score))\n",
    "print(class_score)\n",
    "\n",
    "def analyze_score(class_score):\n",
    "    class_score_maxtomin = sorted(class_score.items(),key=operator.itemgetter(1))\n",
    "    sum_scores = sum(student_score)\n",
    "    averge_scores = sum_scores / 40\n",
    "    return averge_scores,class_score_maxtomin[0],class_score_maxtomin[39]\n",
    "\n",
    "analyze_score(class_score)\n",
    "print(analyze_score(class_score))\n",
    "\n"
   ]
  },
  {
   "cell_type": "code",
   "execution_count": 2,
   "metadata": {
    "tags": []
   },
   "outputs": [
    {
     "output_type": "stream",
     "name": "stdout",
     "text": "[82, 27, 67, 81, 41, 93, 34, 31, 82, 67, 30, 67, 49, 16, 61, 22, 13, 59, 20, 78, 13, 26, 81, 101, 40, 56, 88, 72, 17, 26, 55, 99, 16, 53, 89, 0, 75, 5, 88, 58]\n2078\n51.95\n18\n"
    }
   ],
   "source": [
    "#2\n",
    "from __future__ import division\n",
    "import random\n",
    "\n",
    "total_num = 40\n",
    "score_max = 100\n",
    "\n",
    "class_score = [random.randint(0,score_max+1) for x in range(total_num)]\n",
    "total_score = sum(class_score)\n",
    "averge_score = total_score/ total_num\n",
    "less_averge = len([x for x in class_score if x < averge_score])\n",
    "\n",
    "print(class_score)\n",
    "print(total_score)\n",
    "print(averge_score)\n",
    "print(less_averge)"
   ]
  },
  {
   "cell_type": "code",
   "execution_count": null,
   "metadata": {},
   "outputs": [],
   "source": []
  }
 ],
 "metadata": {
  "language_info": {
   "codemirror_mode": {
    "name": "ipython",
    "version": 3
   },
   "file_extension": ".py",
   "mimetype": "text/x-python",
   "name": "python",
   "nbconvert_exporter": "python",
   "pygments_lexer": "ipython3",
   "version": "3.7.6-final"
  },
  "orig_nbformat": 2,
  "kernelspec": {
   "name": "python3",
   "display_name": "Python 3"
  }
 },
 "nbformat": 4,
 "nbformat_minor": 2
}