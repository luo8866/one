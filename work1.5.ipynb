{
 "cells": [
  {
   "cell_type": "code",
   "execution_count": null,
   "metadata": {},
   "outputs": [],
   "source": [
    "from math import sqrt\n",
    "a = float(input(\"a:\"))\n",
    "b = float(input(\"b:\"))\n",
    "c = float(input(\"c:\"))\n",
    "\n",
    "def get_sovle(a,b,c):\n",
    "    delta = b*b -4*a*c\n",
    "    if delta<0:\n",
    "        raise ValueError(\"under zero\")\n",
    "    else:\n",
    "        x1 = float((-b + sqrt(delta))/(2*a))\n",
    "        x2 = float((-b - sqrt(delta))/(2*a))\n",
    "    return (x1,x2)\n",
    "\n",
    "try:\n",
    " (x,y) = get_sovle(a,b,c)\n",
    "   \n",
    "except ValueError as ex:\n",
    "    print(ex)\n",
    "\n",
    "\n",
    "print(x,y)"
   ]
  }
 ],
 "metadata": {
  "language_info": {
   "codemirror_mode": {
    "name": "ipython",
    "version": 3
   },
   "file_extension": ".py",
   "mimetype": "text/x-python",
   "name": "python",
   "nbconvert_exporter": "python",
   "pygments_lexer": "ipython3",
   "version": 3
  },
  "orig_nbformat": 2
 },
 "nbformat": 4,
 "nbformat_minor": 2
}